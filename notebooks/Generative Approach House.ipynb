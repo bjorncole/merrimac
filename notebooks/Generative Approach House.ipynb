{
 "cells": [
  {
   "cell_type": "code",
   "execution_count": 1,
   "metadata": {},
   "outputs": [],
   "source": [
    "import math\n",
    "import copy\n",
    "\n",
    "import compound_freecad as FC_Cmp\n",
    "import core_freecad_ops as FC_Ops\n",
    "import core_freecad_commands as FC_Cmd\n",
    "\n",
    "import compound_cameo as MD_Cmp\n",
    "import core_cameo_ops as MD_Ops\n",
    "import core_cameo_commands as MD_Cmd\n",
    "\n",
    "import recipe_house_floor as RHF\n",
    "import recipe_house_ext_wall as RHEW"
   ]
  },
  {
   "cell_type": "markdown",
   "metadata": {},
   "source": [
    "Functions to start the editing session and to end it."
   ]
  },
  {
   "cell_type": "markdown",
   "metadata": {},
   "source": [
    "# Cameo Functions"
   ]
  },
  {
   "cell_type": "markdown",
   "metadata": {},
   "source": [
    "Functions for linking to pre-existing data."
   ]
  },
  {
   "cell_type": "markdown",
   "metadata": {},
   "source": [
    "## FreeCAD Modify CAD objects"
   ]
  },
  {
   "cell_type": "code",
   "execution_count": 2,
   "metadata": {},
   "outputs": [],
   "source": [
    "def freecad_remove_object(item='', old_owner=''):\n",
    "    return {\n",
    "        'action': 'remove',\n",
    "        'item': item,\n",
    "        'old owner': old_owner\n",
    "    }"
   ]
  },
  {
   "cell_type": "code",
   "execution_count": 3,
   "metadata": {},
   "outputs": [],
   "source": [
    "def freecad_add_object(item='', new_owner=''):\n",
    "    return {\n",
    "        'action': 'add',\n",
    "        'item': item,\n",
    "        'new owner': new_owner\n",
    "    }"
   ]
  },
  {
   "cell_type": "code",
   "execution_count": 4,
   "metadata": {},
   "outputs": [],
   "source": [
    "def freecad_adjust_links(obj='', new_parent=''):\n",
    "    return {\n",
    "        'action': 'move link',\n",
    "        'object': obj,\n",
    "        'target': new_parent\n",
    "    }"
   ]
  },
  {
   "cell_type": "markdown",
   "metadata": {},
   "source": [
    "# Flooring Frame example"
   ]
  },
  {
   "cell_type": "markdown",
   "metadata": {},
   "source": [
    "Apply the recipe to an example floor frame."
   ]
  },
  {
   "cell_type": "code",
   "execution_count": 5,
   "metadata": {},
   "outputs": [
    {
     "data": {
      "text/plain": [
       "[512.0, 384.0]"
      ]
     },
     "execution_count": 5,
     "metadata": {},
     "output_type": "execute_result"
    }
   ],
   "source": [
    "base_frame = RHF.T_Housing_Flooring_Frame(0)\n",
    "base_frame.name = \"Floor Frame\"\n",
    "base_frame.base_depth = 12.0*42.0\n",
    "base_frame.base_width = 12.0*32.0\n",
    "[base_frame.base_depth, base_frame.base_width]"
   ]
  },
  {
   "cell_type": "code",
   "execution_count": 6,
   "metadata": {},
   "outputs": [],
   "source": [
    "girder_board = RHF.T_Housing_Board(0)\n",
    "girder_board.name = 'Girder'\n",
    "girder_board.width = 5.5\n",
    "girder_board.thickness = 1.5\n",
    "girder_board.length = base_frame.base_depth"
   ]
  },
  {
   "cell_type": "code",
   "execution_count": 7,
   "metadata": {},
   "outputs": [],
   "source": [
    "sill_board = RHF.T_Housing_Board(0)\n",
    "sill_board.name = 'Sill Board'\n",
    "sill_board.width = 5.5\n",
    "sill_board.thickness = 9.25\n",
    "sill_board.length = base_frame.base_depth"
   ]
  },
  {
   "cell_type": "code",
   "execution_count": 8,
   "metadata": {},
   "outputs": [],
   "source": [
    "joist_board = RHF.T_Housing_Board(0)\n",
    "joist_board.name = 'Joist'\n",
    "joist_board.width = 3.5\n",
    "joist_board.thickness = 1.5\n",
    "joist_board.length = base_frame.base_width - 2.0 * joist_board.thickness"
   ]
  },
  {
   "cell_type": "code",
   "execution_count": 9,
   "metadata": {},
   "outputs": [],
   "source": [
    "header_joist_board = RHF.T_Housing_Board(0)\n",
    "header_joist_board.name = 'Header Joist'\n",
    "header_joist_board.width = 3.5\n",
    "header_joist_board.thickness = 1.5\n",
    "header_joist_board.length = base_frame.base_depth"
   ]
  },
  {
   "cell_type": "code",
   "execution_count": 10,
   "metadata": {},
   "outputs": [
    {
     "data": {
      "text/plain": [
       "[48.0, 64.0]"
      ]
     },
     "execution_count": 10,
     "metadata": {},
     "output_type": "execute_result"
    }
   ],
   "source": [
    "floor_across = 8\n",
    "floor_down = 8\n",
    "floor_board = RHF.T_Housing_Panel(0)\n",
    "floor_board.name = 'Floor Board'\n",
    "floor_board.width = base_frame.base_width / float(floor_across)\n",
    "floor_board.depth = base_frame.base_depth / float(floor_down)\n",
    "floor_board.thickness = 0.25\n",
    "\n",
    "[floor_board.width, floor_board.depth]"
   ]
  },
  {
   "cell_type": "code",
   "execution_count": 11,
   "metadata": {},
   "outputs": [],
   "source": [
    "base_frame.sill_board_kind = sill_board\n",
    "base_frame.girder_board_kind = girder_board\n",
    "base_frame.joist_board_kind = joist_board\n",
    "base_frame.floor_board_kind = floor_board\n",
    "base_frame.header_joist_board_kind = header_joist_board\n",
    "\n",
    "base_frame.panels_across = floor_across\n",
    "base_frame.panels_down = floor_down"
   ]
  },
  {
   "cell_type": "markdown",
   "metadata": {},
   "source": [
    "Actually build the example. First the Cameo portion."
   ]
  },
  {
   "cell_type": "code",
   "execution_count": 12,
   "metadata": {},
   "outputs": [],
   "source": [
    "build_list = []"
   ]
  },
  {
   "cell_type": "code",
   "execution_count": 13,
   "metadata": {},
   "outputs": [],
   "source": [
    "build_list = MD_Cmd.access_libraries()"
   ]
  },
  {
   "cell_type": "code",
   "execution_count": 14,
   "metadata": {},
   "outputs": [],
   "source": [
    "build_list.extend(MD_Cmd.cameo_build_session_start())"
   ]
  },
  {
   "cell_type": "code",
   "execution_count": 15,
   "metadata": {},
   "outputs": [],
   "source": [
    "stringified = []\n",
    "for dikt in MD_Cmp.cameo_package_create_dicts(\n",
    "        name=\"Base Package\", order_start=1, owner_obj='modelBase'):\n",
    "    stringified.append(MD_Cmd.cameo_dict_to_string_router(dikt))\n",
    "build_list.extend(stringified)"
   ]
  },
  {
   "cell_type": "code",
   "execution_count": 16,
   "metadata": {},
   "outputs": [],
   "source": [
    "stringified = []\n",
    "for dikt in base_frame.generate_for_cameo_abstract('pkg_id_1'):\n",
    "    stringified.append(MD_Cmd.cameo_dict_to_string_router(dikt))\n",
    "    \n",
    "build_list.extend(stringified)"
   ]
  },
  {
   "cell_type": "code",
   "execution_count": 17,
   "metadata": {},
   "outputs": [],
   "source": [
    "build_list.extend(MD_Cmd.cameo_build_session_end())"
   ]
  },
  {
   "cell_type": "code",
   "execution_count": 18,
   "metadata": {},
   "outputs": [],
   "source": [
    "f = open(\"cameo_instructions.txt\", \"w\")\n",
    "for build in build_list:\n",
    "    f.write(build + '\\n')\n",
    "f.close()"
   ]
  },
  {
   "cell_type": "markdown",
   "metadata": {},
   "source": [
    "Now build the corresponding FreeCAD model."
   ]
  },
  {
   "cell_type": "code",
   "execution_count": 20,
   "metadata": {},
   "outputs": [],
   "source": [
    "cad_stringified = []\n",
    "\n",
    "cad_stringified.extend(FC_Cmd.freecad_build_session_start())\n",
    "\n",
    "for dikt in base_frame.generate_for_freecad():\n",
    "    cad_stringified.append(FC_Cmd.freecad_dict_to_string_router(dikt))\n",
    "    \n",
    "cad_stringified.extend(FC_Cmd.freecad_build_session_end())\n",
    "    \n",
    "f = open(\"generate_\" + \"Floor Frame\".replace(\" \", \"_\") + \".py\", \"w\")\n",
    "\n",
    "for build in cad_stringified:\n",
    "    f.write(build + '\\n')\n",
    "f.close()"
   ]
  },
  {
   "cell_type": "code",
   "execution_count": 21,
   "metadata": {},
   "outputs": [
    {
     "data": {
      "text/plain": [
       "[512.0, 126.0]"
      ]
     },
     "execution_count": 21,
     "metadata": {},
     "output_type": "execute_result"
    }
   ],
   "source": [
    "wall_frame = RHEW.T_Housing_Wall_Frame(0)\n",
    "wall_frame.name = \"Wall Frame\"\n",
    "wall_frame.base_length = base_frame.base_depth\n",
    "wall_frame.base_height = 12.0*10.5\n",
    "wall_frame.direction = 'North-South'\n",
    "[wall_frame.base_length, wall_frame.base_height]"
   ]
  },
  {
   "cell_type": "code",
   "execution_count": 22,
   "metadata": {},
   "outputs": [],
   "source": [
    "plate_board = RHF.T_Housing_Board(0)\n",
    "plate_board.name = 'Plate'\n",
    "plate_board.width = 1.5\n",
    "plate_board.thickness = 5.5\n",
    "plate_board.length = base_frame.base_depth"
   ]
  },
  {
   "cell_type": "code",
   "execution_count": 23,
   "metadata": {},
   "outputs": [],
   "source": [
    "stud_board = RHF.T_Housing_Board(0)\n",
    "stud_board.name = 'Stud'\n",
    "stud_board.width = 1.5\n",
    "stud_board.thickness = 5.5\n",
    "stud_board.length = wall_frame.base_height - 2.0 * plate_board.thickness"
   ]
  },
  {
   "cell_type": "code",
   "execution_count": 24,
   "metadata": {},
   "outputs": [],
   "source": [
    "door_hole = RHEW.T_Housing_Hole()\n",
    "door_hole.width = 3.0 * 12.0\n",
    "door_hole.height_from_floor = 0.0\n",
    "door_hole.height = 8.0 * 12.0\n",
    "door_hole.position = wall_frame.base_length / 2.0\n",
    "\n",
    "wall_frame.holes.append(door_hole)"
   ]
  },
  {
   "cell_type": "code",
   "execution_count": 25,
   "metadata": {},
   "outputs": [],
   "source": [
    "window_hole = RHEW.T_Housing_Hole()\n",
    "window_hole.width = 6.0 * 12.0\n",
    "window_hole.height_from_floor = 2.5 * 12.0\n",
    "window_hole.height = 4.0 * 12.0\n",
    "window_hole.position = 24.0\n",
    "\n",
    "wall_frame.holes.append(window_hole)"
   ]
  },
  {
   "cell_type": "code",
   "execution_count": 26,
   "metadata": {},
   "outputs": [],
   "source": [
    "wall_frame.stud_board_kind = stud_board\n",
    "wall_frame.plate_board_kind = plate_board"
   ]
  },
  {
   "cell_type": "markdown",
   "metadata": {},
   "source": [
    "Translate frame based on floor frame"
   ]
  },
  {
   "cell_type": "code",
   "execution_count": 27,
   "metadata": {},
   "outputs": [],
   "source": [
    "wall_frame.push_x = -base_frame.base_width / 2.0\n",
    "wall_frame.push_z = base_frame.girder_board_kind.width / 2.0 + \\\n",
    "                        base_frame.joist_board_kind.width + base_frame.floor_board_kind.thickness + \\\n",
    "                        wall_frame.plate_board_kind.width / 2.0"
   ]
  },
  {
   "cell_type": "code",
   "execution_count": 28,
   "metadata": {},
   "outputs": [],
   "source": [
    "cad_stringified = []\n",
    "\n",
    "cad_stringified.extend(FC_Cmd.freecad_build_session_start())\n",
    "\n",
    "for dikt in wall_frame.generate_for_freecad():\n",
    "    cad_stringified.append(FC_Cmd.freecad_dict_to_string_router(dikt))\n",
    "    \n",
    "cad_stringified.extend(FC_Cmd.freecad_build_session_end())\n",
    "    \n",
    "f = open(\"generate_\" + \"Wall Frame\".replace(\" \", \"_\") + \".py\", \"w\")\n",
    "\n",
    "for build in cad_stringified:\n",
    "    f.write(build + '\\n')\n",
    "f.close()"
   ]
  },
  {
   "cell_type": "code",
   "execution_count": 29,
   "metadata": {},
   "outputs": [],
   "source": [
    "cad_stringified = []\n",
    "\n",
    "cad_stringified.extend(FC_Cmd.freecad_build_session_start())\n",
    "\n",
    "for dikt in base_frame.generate_for_freecad():\n",
    "    cad_stringified.append(FC_Cmd.freecad_dict_to_string_router(dikt))\n",
    "    \n",
    "indx_push = base_frame.final_indx\n",
    "wall_frame.push_indx = indx_push\n",
    "\n",
    "for dikt in wall_frame.generate_for_freecad():\n",
    "    cad_stringified.append(FC_Cmd.freecad_dict_to_string_router(dikt))\n",
    "    \n",
    "cad_stringified.extend(FC_Cmd.freecad_build_session_end())\n",
    "    \n",
    "f = open(\"generate_\" + \"Builder Frame\".replace(\" \", \"_\") + \".py\", \"w\")\n",
    "\n",
    "for build in cad_stringified:\n",
    "    f.write(build + '\\n')\n",
    "f.close()"
   ]
  }
 ],
 "metadata": {
  "kernelspec": {
   "display_name": "Python 3",
   "language": "python",
   "name": "python3"
  },
  "language_info": {
   "codemirror_mode": {
    "name": "ipython",
    "version": 3
   },
   "file_extension": ".py",
   "mimetype": "text/x-python",
   "name": "python",
   "nbconvert_exporter": "python",
   "pygments_lexer": "ipython3",
   "version": "3.7.2"
  }
 },
 "nbformat": 4,
 "nbformat_minor": 2
}
