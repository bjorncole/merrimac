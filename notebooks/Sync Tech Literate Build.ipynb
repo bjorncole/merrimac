{
 "cells": [
  {
   "cell_type": "code",
   "execution_count": 1,
   "metadata": {},
   "outputs": [],
   "source": [
    "import copy\n",
    "\n",
    "import compound_freecad as FC_Cmp\n",
    "import core_freecad_ops as FC_Ops\n",
    "import core_freecad_commands as FC_Cmd\n",
    "\n",
    "import compound_cameo as MD_Cmp\n",
    "import core_cameo_ops as MD_Ops\n",
    "import core_cameo_commands as MD_Cmd\n",
    "\n",
    "import recipe_oop as RC_OOP\n",
    "import recipe_systems as RC_Sys\n",
    "\n",
    "import recipe_reverse_code as RC_RC\n",
    "\n",
    "import uuid\n",
    "\n",
    "from docx import *\n",
    "\n",
    "import javalang"
   ]
  },
  {
   "cell_type": "markdown",
   "metadata": {},
   "source": [
    "# Section 1 - Load up Base Document and Source Code\n",
    "\n",
    "We start this example by looking at a document written by hand on a technical topic."
   ]
  },
  {
   "cell_type": "code",
   "execution_count": 2,
   "metadata": {},
   "outputs": [],
   "source": [
    "document = Document('Literate Modeling OpenMBEE Sync Technology.docx')"
   ]
  },
  {
   "cell_type": "code",
   "execution_count": 3,
   "metadata": {},
   "outputs": [
    {
     "data": {
      "text/plain": [
       "'The data synchronization technology in OpenMBEE is built to bring the model viewing and documentation apparatus into a common state with model authoring tools. The most developed version of this synchronization is built within the Cameo MDK.'"
      ]
     },
     "execution_count": 3,
     "metadata": {},
     "output_type": "execute_result"
    }
   ],
   "source": [
    "document.paragraphs[1].text"
   ]
  },
  {
   "cell_type": "code",
   "execution_count": 4,
   "metadata": {},
   "outputs": [
    {
     "data": {
      "text/plain": [
       "' is built to bring the model viewing and documentation apparatus into a common state with model authoring tools. The most developed version of this synchronization is built within the Cameo MDK.'"
      ]
     },
     "execution_count": 4,
     "metadata": {},
     "output_type": "execute_result"
    }
   ],
   "source": [
    "document.paragraphs[1].runs[3].text"
   ]
  },
  {
   "cell_type": "code",
   "execution_count": 5,
   "metadata": {},
   "outputs": [
    {
     "data": {
      "text/plain": [
       "'technology in '"
      ]
     },
     "execution_count": 5,
     "metadata": {},
     "output_type": "execute_result"
    }
   ],
   "source": [
    "document.paragraphs[1].runs[1].text"
   ]
  },
  {
   "cell_type": "markdown",
   "metadata": {},
   "source": [
    "Pull in the source code to cross-examine and reverse engineer. Note that the JAR file can be brought into the MagicDraw Classpath via the properties file and experimented with directly."
   ]
  },
  {
   "cell_type": "code",
   "execution_count": 6,
   "metadata": {},
   "outputs": [],
   "source": [
    "source_base = \"C:\\\\Users\\\\Bjorn\\\\Documents\\\\Git\\\\mdk\\\\src\\\\main\\\\java\\\\gov\\\\nasa\\\\jpl\\\\mbee\\\\mdk\\\\emf\\\\\"\n",
    "emfimporter_file = open(source_base + \"EMFImporter.java\", \"r\")"
   ]
  },
  {
   "cell_type": "code",
   "execution_count": 7,
   "metadata": {},
   "outputs": [],
   "source": [
    "emfimporter_source = emfimporter_file.readlines()\n",
    "emfimporter_file.close()"
   ]
  },
  {
   "cell_type": "code",
   "execution_count": 8,
   "metadata": {},
   "outputs": [
    {
     "data": {
      "text/plain": [
       "['                (objectNode, eStructuralFeature, project, strict, element) -> {\\n',\n",
       " '                    JsonNode jsonNode = objectNode.get(MDKConstants.ID_KEY);\\n',\n",
       " '                    if (jsonNode == null || !jsonNode.isTextual()) {\\n',\n",
       " '                            /*if (strict) {\\n',\n",
       " '                                throw new ImportException(element, objectNode, \"Element JSON has missing/malformed ID.\");\\n',\n",
       " '                            }\\n',\n",
       " '                            return null;*/\\n',\n",
       " '                        return element;\\n',\n",
       " '                    }\\n',\n",
       " '                    try {\\n',\n",
       " '                        boolean initialCanResetIDForObject = project.getCounter().canResetIDForObject();\\n',\n",
       " '                        project.getCounter().setCanResetIDForObject(true);\\n',\n",
       " '                        UNCHECKED_SET_E_STRUCTURAL_FEATURE_FUNCTION.apply(jsonNode.asText(), element.eClass().getEIDAttribute(), element);\\n',\n",
       " '                        project.getCounter().setCanResetIDForObject(initialCanResetIDForObject);\\n',\n",
       " '                    } catch (IllegalArgumentException e) {\\n',\n",
       " '                        throw new ImportException(element, objectNode, \"Unexpected illegal argument exception. See logs for more information.\", e);\\n',\n",
       " '                    }\\n',\n",
       " '                    return element;\\n',\n",
       " '                }\\n']"
      ]
     },
     "execution_count": 8,
     "metadata": {},
     "output_type": "execute_result"
    }
   ],
   "source": [
    "emfimporter_source[365:384]"
   ]
  },
  {
   "cell_type": "markdown",
   "metadata": {},
   "source": [
    "# Section 2 - BulkImporter and EMFImport Tear-Down\n",
    "\n",
    "In this area, the Merrimac recipes are put together to walk through major sections of the core code for the Import side of the discussion."
   ]
  },
  {
   "cell_type": "markdown",
   "metadata": {},
   "source": [
    "## Section 2.1 - Libraries and Common Elements\n",
    "\n",
    "Make call-backs to core library elements (e.g., basic value types) here."
   ]
  },
  {
   "cell_type": "code",
   "execution_count": 9,
   "metadata": {},
   "outputs": [],
   "source": [
    "library_element_ids = \\\n",
    "    {\n",
    "        'Integer ValueType': '\\\"_16_5_1_12c903cb_1245415335546_8641_4088\\\"',\n",
    "        'Boolean ValueType': '\\\"_16_5_1_12c903cb_1245415335546_39033_4086\\\"',\n",
    "        'String ValueType': '\\\"_16_5_1_12c903cb_1245415335546_479030_4092\\\"'\n",
    "    }\n",
    "library_element_vars = \\\n",
    "    {\n",
    "        'Integer ValueType': 'integerVal',\n",
    "        'Boolean ValueType': 'booleanVal',\n",
    "        'String ValueType': 'stringVal'\n",
    "    }\n",
    "\n",
    "lib_strings = []\n",
    "\n",
    "for key, val in library_element_ids.items():\n",
    "    lib_strings.append(\n",
    "        library_element_vars[key] + ' = \\n' +\n",
    "            '    com.nomagic.magicdraw.core.Application.getInstance().getProject().getElementByID(' +\n",
    "        val + ');\\n'\n",
    "    )\n",
    "\n",
    "boolean_obj = RC_OOP.T_Library_Class()\n",
    "boolean_obj.reference = library_element_vars['Boolean ValueType']\n",
    "boolean_obj.name = 'boolean'"
   ]
  },
  {
   "cell_type": "markdown",
   "metadata": {},
   "source": [
    "## Section 2.2 - Major Classes for Importers\n",
    "\n",
    "Call out the major classes to be described in the document and prototyped"
   ]
  },
  {
   "cell_type": "markdown",
   "metadata": {},
   "source": [
    "### Section 2.2.1 - Changelog and Associated Classes"
   ]
  },
  {
   "cell_type": "code",
   "execution_count": 10,
   "metadata": {},
   "outputs": [],
   "source": [
    "changelog_description = 'The Changelog is a class designed to track and aggregate ' + \\\n",
    "'changes discovered between model elements stored within different engineering repositories.'\n",
    "\n",
    "change_description = 'The Change class is a simple class meant to catalog ' + \\\n",
    "' individual changes as the Changelog is built up on model processing.'"
   ]
  },
  {
   "cell_type": "code",
   "execution_count": 11,
   "metadata": {},
   "outputs": [],
   "source": [
    "importer_objs = []\n",
    "\n",
    "changelog_change_class = RC_OOP.T_Class(0)\n",
    "changelog_change_class.name = 'Change'\n",
    "\n",
    "changelog_changetype_class = RC_OOP.T_Class(0)\n",
    "changelog_changetype_class.name = 'ChangeType'\n",
    "\n",
    "importer_objs.append(changelog_changetype_class)\n",
    "importer_objs.append(changelog_change_class)"
   ]
  },
  {
   "cell_type": "markdown",
   "metadata": {},
   "source": [
    "## Section 2.3 - Major Data on which to Operate\n",
    "\n",
    "Call out the major classes and data types upon which this technology will operate."
   ]
  },
  {
   "cell_type": "markdown",
   "metadata": {},
   "source": [
    "### Section 2.3.1 - OpenMBEE and Cameo Data\n",
    "\n",
    "Classes from the SysML area."
   ]
  },
  {
   "cell_type": "code",
   "execution_count": 12,
   "metadata": {},
   "outputs": [],
   "source": [
    "importer_data_objs = []\n",
    "\n",
    "model_element_class = RC_OOP.T_Class(0)\n",
    "model_element_class.name = 'Element'\n",
    "\n",
    "project_class = RC_OOP.T_Class(0)\n",
    "project_class.name = 'Project'\n",
    "\n",
    "progress_status_class = RC_OOP.T_Class(0)\n",
    "progress_status_class.name = 'ProgressStatus'\n",
    "\n",
    "importer_data_objs.append(model_element_class)\n",
    "importer_data_objs.append(project_class)\n",
    "importer_data_objs.append(progress_status_class)"
   ]
  },
  {
   "cell_type": "markdown",
   "metadata": {},
   "source": [
    "### Section 2.3.2 - Other technologies\n",
    "\n",
    "Classes from related to technologies."
   ]
  },
  {
   "cell_type": "code",
   "execution_count": 13,
   "metadata": {},
   "outputs": [],
   "source": [
    "json_data_objs = []\n",
    "\n",
    "objectnode_class = RC_OOP.T_Class(0)\n",
    "objectnode_class.name = 'ObjectNode'\n",
    "\n",
    "java_stream = RC_OOP.T_Class(0)\n",
    "java_stream.name = 'java.util.stream.Stream'\n",
    "java_stream.meta = 'InterfaceBlock'\n",
    "\n",
    "java_list = RC_OOP.T_Class(0)\n",
    "java_list.name = 'java.util.List'\n",
    "java_list.meta = 'InterfaceBlock'\n",
    "\n",
    "java_predicate = RC_OOP.T_Class(0)\n",
    "java_predicate.name = 'Predicate'\n",
    "java_predicate.attributes_dict.update({'method': ''})\n",
    "java_predicate.att_types_dict.update({'method': library_element_vars['String ValueType']})\n",
    "java_predicate.att_littypes_dict.update({'method': 'String'})\n",
    "\n",
    "json_data_objs.append(objectnode_class)\n",
    "json_data_objs.append(java_stream)\n",
    "json_data_objs.append(java_list)\n",
    "json_data_objs.append(java_predicate)"
   ]
  },
  {
   "cell_type": "code",
   "execution_count": 14,
   "metadata": {},
   "outputs": [],
   "source": [
    "emf_lib_classes = []\n",
    "\n",
    "estructuralfeature_class = RC_OOP.T_Class(0)\n",
    "estructuralfeature_class.name = 'EStructuralFeature'\n",
    "\n",
    "emf_lib_classes.append(estructuralfeature_class)"
   ]
  },
  {
   "cell_type": "markdown",
   "metadata": {},
   "source": [
    "Adding relevant signatures for later use."
   ]
  },
  {
   "cell_type": "code",
   "execution_count": 15,
   "metadata": {},
   "outputs": [],
   "source": [
    "stream_filter = RC_OOP.T_Method_Signature()\n",
    "stream_filter.name = 'filter'\n",
    "stream_filter.owning_class = java_stream\n",
    "\n",
    "stream_map = RC_OOP.T_Method_Signature()\n",
    "stream_map.name = 'map'\n",
    "stream_map.owning_class = java_stream\n",
    "\n",
    "list_stream = RC_OOP.T_Method_Signature()\n",
    "list_stream.name = 'stream'\n",
    "list_stream.owning_class = java_list\n",
    "\n",
    "java_stream.methods.append(stream_filter)\n",
    "java_stream.methods.append(stream_map)\n",
    "java_stream.methods.append(list_stream)"
   ]
  },
  {
   "cell_type": "markdown",
   "metadata": {},
   "source": [
    "## Section 2.4 - Make References from Data to Importer Classes\n",
    "\n",
    "Show fields where operated data are connected to the importers"
   ]
  },
  {
   "cell_type": "code",
   "execution_count": 16,
   "metadata": {},
   "outputs": [],
   "source": [
    "changelog_change_class.ref_types_dict.update(\n",
    "    {\n",
    "        'changed': model_element_class.generate_cameo_handle(),\n",
    "        'type': changelog_changetype_class.generate_cameo_handle()\n",
    "    }\n",
    ")"
   ]
  },
  {
   "cell_type": "markdown",
   "metadata": {},
   "source": [
    "## Section 2.5 - Active Sections of Importer Code\n",
    "\n",
    "This section is for breaking down the larger methods of the importer down into chunks that can be referenced inside the activity model for the algorithm."
   ]
  },
  {
   "cell_type": "markdown",
   "metadata": {},
   "source": [
    "### Section 2.5.1 - EMFBulkImporter\n",
    "\n",
    "Focus on the major steps within the EMF Bulk Importer (import in bulk to an EMF-based in-memory model)."
   ]
  },
  {
   "cell_type": "markdown",
   "metadata": {},
   "source": [
    "Start with the outline of the apply method under the bulk importer."
   ]
  },
  {
   "cell_type": "code",
   "execution_count": 17,
   "metadata": {},
   "outputs": [],
   "source": [
    "#apply on EMFBulkImporter, line 62\n",
    "importer_code_blocks = []\n",
    "\n",
    "bulk_importer_apply_op = RC_OOP.T_Method_Signature()\n",
    "bulk_importer_apply_op.name = 'apply'\n",
    "\n",
    "bulk_importer_apply_op_objectNodes = RC_OOP.T_Code_Input()\n",
    "bulk_importer_apply_op_objectNodes.name = 'objectNodes'\n",
    "bulk_importer_apply_op_objectNodes.single_item = False\n",
    "bulk_importer_apply_op_objectNodes.para_type = objectnode_class\n",
    "\n",
    "bulk_importer_apply_op_objectNodes_init = RC_OOP.T_Object_State()\n",
    "bulk_importer_apply_op_objectNodes_init.working_name = 'objectNodes'\n",
    "\n",
    "bulk_importer_apply_op_project = RC_OOP.T_Code_Input()\n",
    "bulk_importer_apply_op_project.name = 'project'\n",
    "bulk_importer_apply_op_project.single_item = True\n",
    "bulk_importer_apply_op_project.para_type = project_class\n",
    "\n",
    "bulk_importer_apply_op_project_init = RC_OOP.T_Object_State()\n",
    "bulk_importer_apply_op_project_init.working_name = 'project'\n",
    "\n",
    "bulk_importer_apply_op_progess = RC_OOP.T_Code_Input()\n",
    "bulk_importer_apply_op_progess.name = 'progressStatus'\n",
    "bulk_importer_apply_op_progess.single_item = True\n",
    "bulk_importer_apply_op_progess.para_type = progress_status_class\n",
    "\n",
    "bulk_importer_apply_op_progess_init = RC_OOP.T_Object_State()\n",
    "bulk_importer_apply_op_progess_init.working_name = 'progressStatus'\n",
    "\n",
    "bulk_importer_apply_op.inputs.append(bulk_importer_apply_op_objectNodes)\n",
    "bulk_importer_apply_op.inputs.append(bulk_importer_apply_op_project)\n",
    "bulk_importer_apply_op.inputs.append(bulk_importer_apply_op_progess)\n",
    "\n",
    "bulk_importer_apply_def = RC_OOP.T_Code_Block()\n",
    "bulk_importer_apply_def.name = 'BulkImporter apply'\n",
    "\n",
    "bulk_importer_apply_def.passed_parameters.append(bulk_importer_apply_op_objectNodes)\n",
    "bulk_importer_apply_def.passed_parameters.append(bulk_importer_apply_op_project)\n",
    "bulk_importer_apply_def.passed_parameters.append(bulk_importer_apply_op_progess)\n",
    "\n",
    "bulk_importer_apply_def.passed_parameter_state_dict.update(\n",
    "    {\n",
    "        bulk_importer_apply_op_objectNodes.name : bulk_importer_apply_op_objectNodes_init\n",
    "    }\n",
    ")\n",
    "bulk_importer_apply_def.passed_parameter_state_dict.update(\n",
    "    {\n",
    "        bulk_importer_apply_op_project.name : bulk_importer_apply_op_project_init\n",
    "    }\n",
    ")\n",
    "bulk_importer_apply_def.passed_parameter_state_dict.update(\n",
    "    {\n",
    "        bulk_importer_apply_op_progess.name : bulk_importer_apply_op_progess_init\n",
    "    }\n",
    ")\n",
    "\n",
    "bulk_importer_apply_op.implementation = bulk_importer_apply_def\n",
    "\n",
    "importer_code_blocks.append(bulk_importer_apply_def)"
   ]
  },
  {
   "cell_type": "code",
   "execution_count": 18,
   "metadata": {},
   "outputs": [],
   "source": [
    "# capture lines 80 through 112\n",
    "bulk_importer_apply_start = RC_OOP.T_Code_Block()\n",
    "bulk_importer_apply_start.name = 'BulkImporter apply startup'\n",
    "\n",
    "# capture lines 113 through 128\n",
    "bulk_importer_apply_while_start = RC_OOP.T_Code_Block()\n",
    "bulk_importer_apply_while_start.name = 'BulkImporter bulkImport session start'\n",
    "\n",
    "# capture lines 129 through 166\n",
    "bulk_importer_apply_att1 = RC_OOP.T_Code_Block()\n",
    "bulk_importer_apply_att1.name = 'BulkImporter bulkImport attempt 1'\n",
    "\n",
    "# capture lines 167 through 200\n",
    "bulk_importer_apply_att1_5 = RC_OOP.T_Code_Block()\n",
    "bulk_importer_apply_att1_5.name = 'BulkImporter bulkImport attempt 1.5'\n",
    "\n",
    "# capture lines 201 through 238\n",
    "bulk_importer_apply_att2 = RC_OOP.T_Code_Block()\n",
    "bulk_importer_apply_att2.name = 'BulkImporter bulkImport attempt 2'"
   ]
  },
  {
   "cell_type": "markdown",
   "metadata": {},
   "source": [
    "### Section 2.5.2 - EMFImporter\n",
    "\n",
    "Focus on the major steps within the EMF Importer (import a single element)."
   ]
  },
  {
   "cell_type": "code",
   "execution_count": 19,
   "metadata": {},
   "outputs": [],
   "source": [
    "importer_convert1 = RC_OOP.T_Code_Block()\n",
    "importer_convert1.name = 'EMFImport find import function for structural feature'"
   ]
  },
  {
   "cell_type": "markdown",
   "metadata": {},
   "source": [
    "Line 71 to 73 is quite complicated:\n",
    "\n",
    "ImportFunction function = getEStructuralFeatureOverrides().stream().filter(override -> override.getPredicate()\n",
    "                        .test(objectNode, eStructuralFeature, project, strict, finalElement)).map(EStructuralFeatureOverride::getFunction)\n",
    "                        .findAny().orElse(DEFAULT_E_STRUCTURAL_FEATURE_FUNCTION);"
   ]
  },
  {
   "cell_type": "markdown",
   "metadata": {},
   "source": [
    "Capture EStructuralOverride and its methods."
   ]
  },
  {
   "cell_type": "markdown",
   "metadata": {},
   "source": [
    "This is the generic ImportFunction."
   ]
  },
  {
   "cell_type": "code",
   "execution_count": 20,
   "metadata": {},
   "outputs": [],
   "source": [
    "import_fun = RC_OOP.T_Class(0)\n",
    "import_fun.name = 'ImportFunction'\n",
    "import_fun.meta = 'InterfaceBlock'\n",
    "\n",
    "import_pred = RC_OOP.T_Class(0)\n",
    "import_pred.name = 'ImportPredicate'\n",
    "import_pred.meta = 'InterfaceBlock'\n",
    "import_pred.general_types.append(java_predicate)\n",
    "\n",
    "import_pred_test = RC_OOP.T_Method_Signature()\n",
    "import_pred_test.name = 'test'\n",
    "import_pred_test.owning_class = import_pred\n",
    "\n",
    "import_pred.methods.append(import_pred_test)\n",
    "\n",
    "# add the inputs and returns to match the signature\n",
    "# boolean test(ObjectNode objectNode, EStructuralFeature eStructuralFeature, Project project, boolean strict, Element element)\n",
    "\n",
    "import_pred_test_p1 = RC_OOP.T_Code_Input()\n",
    "import_pred_test_p1.name = 'objectNode'\n",
    "import_pred_test_p1.single_item = True\n",
    "import_pred_test_p1.para_type = objectnode_class\n",
    "\n",
    "import_pred_test_p2 = RC_OOP.T_Code_Input()\n",
    "import_pred_test_p2.name = 'eStructuralFeature'\n",
    "import_pred_test_p2.single_item = True\n",
    "import_pred_test_p2.para_type = estructuralfeature_class\n",
    "\n",
    "import_pred_test_p3 = RC_OOP.T_Code_Input()\n",
    "import_pred_test_p3.name = 'project'\n",
    "import_pred_test_p3.single_item = True\n",
    "import_pred_test_p3.para_type = project_class\n",
    "\n",
    "import_pred_test_p4 = RC_OOP.T_Code_Input()\n",
    "import_pred_test_p4.name = 'strict'\n",
    "import_pred_test_p4.single_item = True\n",
    "import_pred_test_p4.para_type = library_element_vars['Boolean ValueType']\n",
    "\n",
    "import_pred_test_p5 = RC_OOP.T_Code_Input()\n",
    "import_pred_test_p5.name = 'element'\n",
    "import_pred_test_p5.single_item = True\n",
    "import_pred_test_p5.para_type = project_class\n",
    "\n",
    "import_pred_test.inputs.append(import_pred_test_p1)\n",
    "import_pred_test.inputs.append(import_pred_test_p2)\n",
    "import_pred_test.inputs.append(import_pred_test_p3)\n",
    "import_pred_test.inputs.append(import_pred_test_p4)\n",
    "import_pred_test.inputs.append(import_pred_test_p5)"
   ]
  },
  {
   "cell_type": "markdown",
   "metadata": {},
   "source": [
    "Let's try some fun with parsing and ASTs to more quickly build the model:"
   ]
  },
  {
   "cell_type": "code",
   "execution_count": 21,
   "metadata": {},
   "outputs": [
    {
     "data": {
      "text/plain": [
       "'    interface ImportPredicate {\\n        boolean test(ObjectNode objectNode, EStructuralFeature eStructuralFeature, Project project, boolean strict, Element element);\\n    }\\n'"
      ]
     },
     "execution_count": 21,
     "metadata": {},
     "output_type": "execute_result"
    }
   ],
   "source": [
    "trial_string = ''\n",
    "for line in emfimporter_source[488:491]:\n",
    "    trial_string = trial_string + line\n",
    "trial_string"
   ]
  },
  {
   "cell_type": "code",
   "execution_count": 22,
   "metadata": {},
   "outputs": [
    {
     "name": "stdout",
     "output_type": "stream",
     "text": [
      "Signature tree is CompilationUnit(imports=[], package=None, types=[InterfaceDeclaration(annotations=[], body=[MethodDeclaration(annotations=[], body=None, documentation=None, modifiers=set(), name=test, parameters=[FormalParameter(annotations=[], modifiers=set(), name=objectNode, type=ReferenceType(arguments=None, dimensions=[], name=ObjectNode, sub_type=None), varargs=False), FormalParameter(annotations=[], modifiers=set(), name=eStructuralFeature, type=ReferenceType(arguments=None, dimensions=[], name=EStructuralFeature, sub_type=None), varargs=False), FormalParameter(annotations=[], modifiers=set(), name=project, type=ReferenceType(arguments=None, dimensions=[], name=Project, sub_type=None), varargs=False), FormalParameter(annotations=[], modifiers=set(), name=strict, type=BasicType(dimensions=[], name=boolean), varargs=False), FormalParameter(annotations=[], modifiers=set(), name=element, type=ReferenceType(arguments=None, dimensions=[], name=Element, sub_type=None), varargs=False)], return_type=BasicType(dimensions=[], name=boolean), throws=None, type_parameters=None)], documentation=None, extends=None, modifiers=set(), name=ImportPredicate, type_parameters=None)])\n"
     ]
    }
   ],
   "source": [
    "type_list = []\n",
    "type_list.append(boolean_obj)\n",
    "type_list.extend(json_data_objs)\n",
    "type_list.extend(emf_lib_classes)\n",
    "type_list.append(project_class)\n",
    "type_list.append(model_element_class)\n",
    "\n",
    "sig_dict = RC_RC.oop_objects_from_method_sig(\n",
    "    signature=trial_string,\n",
    "    types=type_list\n",
    ")"
   ]
  },
  {
   "cell_type": "code",
   "execution_count": 24,
   "metadata": {},
   "outputs": [
    {
     "data": {
      "text/plain": [
       "{'test': <recipe_oop.T_Method_Signature at 0x25e717b0f28>}"
      ]
     },
     "execution_count": 24,
     "metadata": {},
     "output_type": "execute_result"
    }
   ],
   "source": [
    "sig_dict"
   ]
  },
  {
   "cell_type": "code",
   "execution_count": 29,
   "metadata": {},
   "outputs": [
    {
     "data": {
      "text/plain": [
       "[<recipe_oop.T_Class at 0x25e7177fb00>,\n",
       " <recipe_oop.T_Class at 0x25e7178d5f8>,\n",
       " <recipe_oop.T_Class at 0x25e7178ddd8>,\n",
       " <recipe_oop.T_Library_Class at 0x25e7178de80>,\n",
       " <recipe_oop.T_Class at 0x25e7178de48>]"
      ]
     },
     "execution_count": 29,
     "metadata": {},
     "output_type": "execute_result"
    }
   ],
   "source": [
    "[inp.para_type for inp in sig_dict['test'].inputs]"
   ]
  },
  {
   "cell_type": "markdown",
   "metadata": {},
   "source": [
    "Capture singletons for specific predicates developed for the bulk importer."
   ]
  },
  {
   "cell_type": "code",
   "execution_count": null,
   "metadata": {},
   "outputs": [],
   "source": [
    "id_pred = RC_OOP.T_Class(0)\n",
    "id_pred.name = 'EStructuralFeatureOverride.ID Predicate Singleton'\n",
    "id_pred.general_types.append(import_pred)\n",
    "id_pred.attributes_dict.update(\n",
    "    {\n",
    "        'method': '\\\"(objectNode, eStructuralFeature, project, strict, element) -> eStructuralFeature == element.eClass().getEIDAttribute()\\\"'\n",
    "    }\n",
    ")\n",
    "id_pred.att_types_dict.update({'method': library_element_vars['String ValueType']})\n",
    "id_pred.att_littypes_dict.update({'method': 'String'})\n",
    "\n",
    "owner_pred = RC_OOP.T_Class(0)\n",
    "owner_pred.name = 'EStructuralFeatureOverride.OWNER Predicate Singleton'\n",
    "owner_pred.general_types.append(import_pred)\n",
    "owner_pred.attributes_dict.update(\n",
    "    {\n",
    "        'method': '\\\"(objectNode, eStructuralFeature, project, strict, element) -> UMLPackage.Literals.ELEMENT__OWNER == eStructuralFeature\\\"'\n",
    "    }\n",
    ")\n",
    "owner_pred.att_types_dict.update({'method': library_element_vars['String ValueType']})\n",
    "owner_pred.att_littypes_dict.update({'method': 'String'})"
   ]
  },
  {
   "cell_type": "markdown",
   "metadata": {},
   "source": [
    "Capture specific functions within the bulk importer."
   ]
  },
  {
   "cell_type": "code",
   "execution_count": null,
   "metadata": {},
   "outputs": [],
   "source": [
    "id_fun_string = ''\n",
    "for indx, line in enumerate(emfimporter_source[365:384]):\n",
    "    id_fun_string = id_fun_string + '\\\"' + line[0:-1].replace('\\\"', '\\\\\"')\n",
    "    if indx + 1 < len(emfimporter_source[365:384]):\n",
    "        id_fun_string = id_fun_string + '\\\" + \\n'\n",
    "    else:\n",
    "        id_fun_string = id_fun_string + '\\\"\\n'\n",
    "\n",
    "id_fun = RC_OOP.T_Class(0)\n",
    "id_fun.name = 'EStructuralFeatureOverride.ID Function Singleton'\n",
    "id_fun.general_types.append(import_fun)\n",
    "id_fun.attributes_dict.update(\n",
    "    {\n",
    "        'method': id_fun_string\n",
    "    }\n",
    ")\n",
    "id_fun.att_types_dict.update({'method': library_element_vars['String ValueType']})\n",
    "id_fun.att_littypes_dict.update({'method': 'String'})\n",
    "\n",
    "owner_fun_string = ''\n",
    "for indx, line in enumerate(emfimporter_source[406:456]):\n",
    "    owner_fun_string = owner_fun_string + '\\\"' + line[0:-1].replace('\\\"', '\\\\\"')\n",
    "    if indx + 1 < len(emfimporter_source[406:456]):\n",
    "        owner_fun_string = owner_fun_string + '\\\" + \\n'\n",
    "    else:\n",
    "        owner_fun_string = owner_fun_string + '\\\"\\n'\n",
    "\n",
    "owner_fun = RC_OOP.T_Class(0)\n",
    "owner_fun.name = 'EStructuralFeatureOverride.OWNER Function Singleton'\n",
    "owner_fun.general_types.append(import_fun)\n",
    "owner_fun.attributes_dict.update(\n",
    "    {\n",
    "        'method': owner_fun_string\n",
    "    }\n",
    ")\n",
    "owner_fun.att_types_dict.update({'method': library_element_vars['String ValueType']})\n",
    "owner_fun.att_littypes_dict.update({'method': 'String'})"
   ]
  },
  {
   "cell_type": "markdown",
   "metadata": {},
   "source": [
    "## Section 2.6 - Importer and EMF Classes\n",
    "\n",
    "Capture the structure of the importer codes"
   ]
  },
  {
   "cell_type": "code",
   "execution_count": null,
   "metadata": {},
   "outputs": [],
   "source": [
    "emf_classes = []\n",
    "\n",
    "emf_bulkimporter_class = RC_OOP.T_Class(0)\n",
    "emf_bulkimporter_class.name = 'EMFBulkImporter'\n",
    "emf_bulkimporter_class.methods.append(bulk_importer_apply_op)\n",
    "\n",
    "bulk_importer_apply_op.owning_class = emf_bulkimporter_class\n",
    "\n",
    "emf_classes.append(emf_bulkimporter_class)\n",
    "emf_classes.append(import_fun)\n",
    "emf_classes.append(import_pred)\n",
    "emf_classes.append(id_pred)\n",
    "emf_classes.append(owner_pred)\n",
    "emf_classes.append(id_fun)\n",
    "emf_classes.append(owner_fun)\n",
    "\n",
    "emf_bulkimporter_class.methods[0].implementation"
   ]
  },
  {
   "cell_type": "markdown",
   "metadata": {},
   "source": [
    "# Section X - Generate Cameo API Calls"
   ]
  },
  {
   "cell_type": "markdown",
   "metadata": {},
   "source": [
    "## Section X - Create packages for the model"
   ]
  },
  {
   "cell_type": "code",
   "execution_count": null,
   "metadata": {},
   "outputs": [],
   "source": [
    "stringified = []\n",
    "build_list = MD_Cmd.cameo_build_session_start()\n",
    "\n",
    "build_list.extend(lib_strings)\n",
    "\n",
    "for dikt in MD_Cmp.cameo_package_create_dicts(\n",
    "    name=\"Base Package\",\n",
    "    order_start=1,\n",
    "    owner_obj='modelBase'):\n",
    "        stringified.append(MD_Cmd.cameo_dict_to_string_router(dikt))\n",
    "\n",
    "for dikt in MD_Cmp.cameo_package_create_dicts(\n",
    "    name=\"MDK Sync Technology\",\n",
    "    order_start=2,\n",
    "    owner_obj='pkg_id_1'):\n",
    "        stringified.append(MD_Cmd.cameo_dict_to_string_router(dikt))\n",
    "        \n",
    "for dikt in MD_Cmp.cameo_package_create_dicts(\n",
    "    name=\"gov.nasa.jpl.mbee.mdk.emf\",\n",
    "    order_start=3,\n",
    "    owner_obj='pkg_id_2'):\n",
    "        stringified.append(MD_Cmd.cameo_dict_to_string_router(dikt))\n",
    "        \n",
    "for dikt in MD_Cmp.cameo_package_create_dicts(\n",
    "    name=\"Cameo Items\",\n",
    "    order_start=4,\n",
    "    owner_obj='pkg_id_1'):\n",
    "        stringified.append(MD_Cmd.cameo_dict_to_string_router(dikt))\n",
    "        \n",
    "for dikt in MD_Cmp.cameo_package_create_dicts(\n",
    "    name=\"Other Java Technology\",\n",
    "    order_start=5,\n",
    "    owner_obj='pkg_id_1'):\n",
    "        stringified.append(MD_Cmd.cameo_dict_to_string_router(dikt))\n",
    "        \n",
    "for dikt in MD_Cmp.cameo_package_create_dicts(\n",
    "    name=\"Eclipse Modeling Framework\",\n",
    "    order_start=6,\n",
    "    owner_obj='pkg_id_5'):\n",
    "        stringified.append(MD_Cmd.cameo_dict_to_string_router(dikt))"
   ]
  },
  {
   "cell_type": "markdown",
   "metadata": {},
   "source": [
    "## Section X - Create objects"
   ]
  },
  {
   "cell_type": "code",
   "execution_count": null,
   "metadata": {},
   "outputs": [],
   "source": [
    "for obj in importer_data_objs:\n",
    "    for dikt in obj.generate_for_cameo_abstract('pkg_id_3'):\n",
    "        stringified.append(MD_Cmd.cameo_dict_to_string_router(dikt))\n",
    "        \n",
    "for obj in importer_objs:\n",
    "    for dikt in obj.generate_for_cameo_abstract('pkg_id_4'):\n",
    "        stringified.append(MD_Cmd.cameo_dict_to_string_router(dikt))\n",
    "        \n",
    "for obj in json_data_objs:\n",
    "    for dikt in obj.generate_for_cameo_abstract('pkg_id_5'):\n",
    "        stringified.append(MD_Cmd.cameo_dict_to_string_router(dikt))\n",
    "        \n",
    "for obj in importer_code_blocks:\n",
    "    for dikt in obj.generate_for_cameo_sig_only('pkg_id_3'):\n",
    "        stringified.append(MD_Cmd.cameo_dict_to_string_router(dikt))\n",
    "        \n",
    "for obj in emf_lib_classes:\n",
    "    for dikt in obj.generate_for_cameo_abstract('pkg_id_5'):\n",
    "        stringified.append(MD_Cmd.cameo_dict_to_string_router(dikt))\n",
    "        \n",
    "for obj in emf_classes:\n",
    "    for dikt in obj.generate_for_cameo_abstract('pkg_id_3'):\n",
    "        stringified.append(MD_Cmd.cameo_dict_to_string_router(dikt))\n",
    "        \n",
    "for obj in importer_code_blocks:\n",
    "    for dikt in obj.generate_for_cameo_internals_only('pkg_id_3'):\n",
    "        stringified.append(MD_Cmd.cameo_dict_to_string_router(dikt))"
   ]
  },
  {
   "cell_type": "code",
   "execution_count": null,
   "metadata": {},
   "outputs": [],
   "source": [
    "build_list.extend(stringified)\n",
    "build_list.extend(MD_Cmd.cameo_build_session_end())\n",
    "\n",
    "f = open(\"cameo_mdk_tech.groovy\", \"w\")\n",
    "for build in build_list:\n",
    "    f.write(build + '\\n')\n",
    "f.close()"
   ]
  },
  {
   "cell_type": "code",
   "execution_count": null,
   "metadata": {},
   "outputs": [],
   "source": []
  }
 ],
 "metadata": {
  "kernelspec": {
   "display_name": "Python 3",
   "language": "python",
   "name": "python3"
  },
  "language_info": {
   "codemirror_mode": {
    "name": "ipython",
    "version": 3
   },
   "file_extension": ".py",
   "mimetype": "text/x-python",
   "name": "python",
   "nbconvert_exporter": "python",
   "pygments_lexer": "ipython3",
   "version": "3.7.2"
  }
 },
 "nbformat": 4,
 "nbformat_minor": 2
}
